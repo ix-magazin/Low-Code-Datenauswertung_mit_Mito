{
 "cells": [
  {
   "cell_type": "code",
   "execution_count": null,
   "id": "3cbbb574",
   "metadata": {},
   "outputs": [],
   "source": [
    "import pandas as pd"
   ]
  },
  {
   "cell_type": "code",
   "execution_count": null,
   "id": "2036e8af",
   "metadata": {},
   "outputs": [],
   "source": [
    "pip install openml"
   ]
  },
  {
   "cell_type": "code",
   "execution_count": null,
   "id": "dc262913",
   "metadata": {},
   "outputs": [],
   "source": [
    "import openml"
   ]
  },
  {
   "cell_type": "code",
   "execution_count": null,
   "id": "0073ffe4",
   "metadata": {},
   "outputs": [],
   "source": [
    "dataset = openml.datasets.get_dataset(1590)"
   ]
  },
  {
   "cell_type": "code",
   "execution_count": null,
   "id": "8b7523ce",
   "metadata": {},
   "outputs": [],
   "source": [
    "df, _, _, _ = dataset.get_data(dataset_format=\"dataframe\")"
   ]
  },
  {
   "cell_type": "code",
   "execution_count": null,
   "id": "dbb133e8",
   "metadata": {
    "scrolled": true
   },
   "outputs": [],
   "source": [
    "df"
   ]
  },
  {
   "cell_type": "code",
   "execution_count": null,
   "id": "97b3a332",
   "metadata": {},
   "outputs": [],
   "source": [
    "df.info()"
   ]
  },
  {
   "cell_type": "code",
   "execution_count": null,
   "id": "f141e9b0",
   "metadata": {},
   "outputs": [],
   "source": [
    "df.describe(include=\"all\")"
   ]
  },
  {
   "cell_type": "code",
   "execution_count": null,
   "id": "2156bdcb",
   "metadata": {},
   "outputs": [],
   "source": [
    "pip install mito mitosheet"
   ]
  },
  {
   "cell_type": "code",
   "execution_count": null,
   "id": "b71527c3",
   "metadata": {},
   "outputs": [],
   "source": [
    "import mito\n",
    "import mitosheet"
   ]
  },
  {
   "cell_type": "code",
   "execution_count": null,
   "id": "a75cbdda",
   "metadata": {
    "scrolled": true
   },
   "outputs": [],
   "source": [
    "mitosheet.sheet(df, analysis_to_replay=\"id-tmzhfdxemy\")"
   ]
  },
  {
   "cell_type": "code",
   "execution_count": null,
   "id": "652dfca9",
   "metadata": {},
   "outputs": [],
   "source": [
    "from mitosheet.public.v2 import *; register_analysis(\"id-tmzhfdxemy\");\n",
    "\n",
    "# Filtered education-num\n",
    "df = df[df['education-num'] > 12]\n",
    "\n",
    "# Sorted education-num in ascending order\n",
    "df = df.sort_values(by='educatoin-num', ascending=True, na_position='first')\n",
    "\n",
    "# Added column new-column-6qhq\n",
    "df.insert(15, 'new-column-6qhq', 0)\n",
    "\n",
    "# Renamed columns higher edu\n",
    "df.rename(columns={'new-column-6qhq': 'higher edu'}, inplace=True)\n",
    "\n",
    "# Set formula of higher edu at rows {'[0]'}\n",
    "df.loc[[0], ['higher edu']] = 0\n",
    "\n",
    "# Set formula of higher edu\n",
    "df['higher edu'] = IF(df['education-num'] > 13, 1, 0)\n",
    "\n",
    "# Pivoted df into df_pivot\n",
    "tmp_df = df[['age', 'class', 'sex']].copy()\n",
    "pivot_table = tmp_df.pivot_table(\n",
    "    index=['sex'],\n",
    "    columns=['class'],\n",
    "    values=['age'],\n",
    "    aggfunc={'age': ['mean']}\n",
    ")\n",
    "pivot_table.set_axis([flatten_column_header(col) for col in pivot_table.keys()], axis=1, inplace=True)\n",
    "df_pivot = pivot_table.reset_index()\n",
    "\n",
    "# Sorted education-num in ascending order\n",
    "df = df.sort_values(by='education-num', ascending=True, na_position='first')\n",
    "\n",
    "# Sorted education-num in ascending order\n",
    "df = df.sort_values(by='education-num', ascending=True, na_position='first')\n",
    "\n",
    "# Sorted education-num in ascending order\n",
    "df = df.sort_values(by='education-num', ascending=True, na_position='first')\n",
    "\n",
    "# Formatted dataframes. View these styling objects to see the formatted dataframe\n",
    "df_styler = df.head(1500).style\\\n",
    "    .format(\"{:.1f}\", subset=['capital-gain'])\n"
   ]
  },
  {
   "cell_type": "code",
   "execution_count": null,
   "id": "4ed42ef2",
   "metadata": {},
   "outputs": [],
   "source": [
    "df['higher edu'] = IF(df['education-num'] > 13, 1, 0)"
   ]
  },
  {
   "cell_type": "code",
   "execution_count": null,
   "id": "e34e5f6c",
   "metadata": {},
   "outputs": [],
   "source": []
  }
 ],
 "metadata": {
  "kernelspec": {
   "display_name": "Python 3 (ipykernel)",
   "language": "python",
   "name": "python3"
  },
  "language_info": {
   "codemirror_mode": {
    "name": "ipython",
    "version": 3
   },
   "file_extension": ".py",
   "mimetype": "text/x-python",
   "name": "python",
   "nbconvert_exporter": "python",
   "pygments_lexer": "ipython3",
   "version": "3.9.12"
  }
 },
 "nbformat": 4,
 "nbformat_minor": 5
}
